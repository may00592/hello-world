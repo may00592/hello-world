{
 "cells": [
  {
   "cell_type": "code",
   "execution_count": 1,
   "metadata": {},
   "outputs": [],
   "source": [
    "import pandas as pd\n",
    "import statsmodels.api as sm\n",
    "import seaborn as sns \n",
    "import matplotlib.pyplot as plt\n",
    "\n",
    "%matplotlib notebook"
   ]
  },
  {
   "cell_type": "code",
   "execution_count": 34,
   "metadata": {},
   "outputs": [],
   "source": [
    "data = pd.read_excel(\"临床问卷数据1.xlsx\").iloc[:, :15]\n",
    "data.loc[data['椎间盘退变分数']<=10, ['椎间盘退变分数']] = 0\n",
    "data.loc[data['椎间盘退变分数']>10, ['椎间盘退变分数']] = 1\n",
    "data[\"intercept\"] = 1.0"
   ]
  },
  {
   "cell_type": "code",
   "execution_count": 35,
   "metadata": {},
   "outputs": [
    {
     "data": {
      "text/html": [
       "<div>\n",
       "<style scoped>\n",
       "    .dataframe tbody tr th:only-of-type {\n",
       "        vertical-align: middle;\n",
       "    }\n",
       "\n",
       "    .dataframe tbody tr th {\n",
       "        vertical-align: top;\n",
       "    }\n",
       "\n",
       "    .dataframe thead th {\n",
       "        text-align: right;\n",
       "    }\n",
       "</style>\n",
       "<table border=\"1\" class=\"dataframe\">\n",
       "  <thead>\n",
       "    <tr style=\"text-align: right;\">\n",
       "      <th></th>\n",
       "      <th>年龄</th>\n",
       "      <th>身高</th>\n",
       "      <th>体重</th>\n",
       "      <th>BMI</th>\n",
       "      <th>吸烟史</th>\n",
       "      <th>饮酒史</th>\n",
       "      <th>体育锻炼</th>\n",
       "      <th>腰背痛程度评分</th>\n",
       "      <th>VAS评分</th>\n",
       "      <th>椎间盘退变分数</th>\n",
       "      <th>Modic改变阴性椎体个数</th>\n",
       "      <th>Modic改变阳性椎体个数</th>\n",
       "      <th>许莫氏结节阴性椎体个数</th>\n",
       "      <th>许莫氏结节阳性椎体个数</th>\n",
       "      <th>睡眠量表得分</th>\n",
       "      <th>intercept</th>\n",
       "    </tr>\n",
       "  </thead>\n",
       "  <tbody>\n",
       "    <tr>\n",
       "      <th>0</th>\n",
       "      <td>35</td>\n",
       "      <td>160</td>\n",
       "      <td>53</td>\n",
       "      <td>20.703125</td>\n",
       "      <td>无</td>\n",
       "      <td>无</td>\n",
       "      <td>≥1次/周</td>\n",
       "      <td>14</td>\n",
       "      <td>5</td>\n",
       "      <td>1</td>\n",
       "      <td>4</td>\n",
       "      <td>1</td>\n",
       "      <td>5</td>\n",
       "      <td>0</td>\n",
       "      <td>70</td>\n",
       "      <td>1.0</td>\n",
       "    </tr>\n",
       "    <tr>\n",
       "      <th>1</th>\n",
       "      <td>32</td>\n",
       "      <td>175</td>\n",
       "      <td>80</td>\n",
       "      <td>26.122449</td>\n",
       "      <td>有</td>\n",
       "      <td>有</td>\n",
       "      <td>≥1次/周</td>\n",
       "      <td>26</td>\n",
       "      <td>6</td>\n",
       "      <td>1</td>\n",
       "      <td>1</td>\n",
       "      <td>4</td>\n",
       "      <td>4</td>\n",
       "      <td>1</td>\n",
       "      <td>59</td>\n",
       "      <td>1.0</td>\n",
       "    </tr>\n",
       "    <tr>\n",
       "      <th>2</th>\n",
       "      <td>33</td>\n",
       "      <td>170</td>\n",
       "      <td>60</td>\n",
       "      <td>20.761246</td>\n",
       "      <td>无</td>\n",
       "      <td>无</td>\n",
       "      <td>无</td>\n",
       "      <td>7</td>\n",
       "      <td>3</td>\n",
       "      <td>1</td>\n",
       "      <td>2</td>\n",
       "      <td>3</td>\n",
       "      <td>4</td>\n",
       "      <td>1</td>\n",
       "      <td>57</td>\n",
       "      <td>1.0</td>\n",
       "    </tr>\n",
       "    <tr>\n",
       "      <th>3</th>\n",
       "      <td>28</td>\n",
       "      <td>175</td>\n",
       "      <td>83</td>\n",
       "      <td>27.102041</td>\n",
       "      <td>戒</td>\n",
       "      <td>有</td>\n",
       "      <td>＜1次/周</td>\n",
       "      <td>11</td>\n",
       "      <td>2</td>\n",
       "      <td>1</td>\n",
       "      <td>0</td>\n",
       "      <td>5</td>\n",
       "      <td>2</td>\n",
       "      <td>3</td>\n",
       "      <td>40</td>\n",
       "      <td>1.0</td>\n",
       "    </tr>\n",
       "    <tr>\n",
       "      <th>4</th>\n",
       "      <td>32</td>\n",
       "      <td>183</td>\n",
       "      <td>80</td>\n",
       "      <td>23.888441</td>\n",
       "      <td>戒</td>\n",
       "      <td>有</td>\n",
       "      <td>＜1次/周</td>\n",
       "      <td>10</td>\n",
       "      <td>2</td>\n",
       "      <td>0</td>\n",
       "      <td>0</td>\n",
       "      <td>5</td>\n",
       "      <td>3</td>\n",
       "      <td>2</td>\n",
       "      <td>51</td>\n",
       "      <td>1.0</td>\n",
       "    </tr>\n",
       "  </tbody>\n",
       "</table>\n",
       "</div>"
      ],
      "text/plain": [
       "   年龄   身高  体重        BMI 吸烟史 饮酒史   体育锻炼  腰背痛程度评分  VAS评分  椎间盘退变分数  \\\n",
       "0  35  160  53  20.703125   无   无  ≥1次/周       14      5        1   \n",
       "1  32  175  80  26.122449   有   有  ≥1次/周       26      6        1   \n",
       "2  33  170  60  20.761246   无   无      无        7      3        1   \n",
       "3  28  175  83  27.102041   戒   有  ＜1次/周       11      2        1   \n",
       "4  32  183  80  23.888441   戒   有  ＜1次/周       10      2        0   \n",
       "\n",
       "   Modic改变阴性椎体个数  Modic改变阳性椎体个数  许莫氏结节阴性椎体个数  许莫氏结节阳性椎体个数  睡眠量表得分  intercept  \n",
       "0              4              1            5            0      70        1.0  \n",
       "1              1              4            4            1      59        1.0  \n",
       "2              2              3            4            1      57        1.0  \n",
       "3              0              5            2            3      40        1.0  \n",
       "4              0              5            3            2      51        1.0  "
      ]
     },
     "execution_count": 35,
     "metadata": {},
     "output_type": "execute_result"
    }
   ],
   "source": [
    "data.head()"
   ]
  },
  {
   "cell_type": "code",
   "execution_count": 36,
   "metadata": {},
   "outputs": [
    {
     "data": {
      "text/plain": [
       "(array(['无', '有', '戒'], dtype=object),\n",
       " array(['无', '有'], dtype=object),\n",
       " array(['≥1次/周', '无', '＜1次/周'], dtype=object))"
      ]
     },
     "execution_count": 36,
     "metadata": {},
     "output_type": "execute_result"
    }
   ],
   "source": [
    "data['吸烟史'].unique(), data['饮酒史'].unique(), data['体育锻炼'].unique()"
   ]
  },
  {
   "cell_type": "code",
   "execution_count": 37,
   "metadata": {},
   "outputs": [],
   "source": [
    "dummy_smoke = pd.get_dummies(data['吸烟史'], prefix='smoke', drop_first=True) # 无，有，戒 :0，1，2\n",
    "dummy_alcohol = pd.get_dummies(data['饮酒史'], prefix='alcohol', drop_first=True)  # 无，有\n",
    "dummy_exercise = pd.get_dummies(data['体育锻炼'], prefix='exercise', drop_first=True) # 无，》=， 《="
   ]
  },
  {
   "cell_type": "code",
   "execution_count": 38,
   "metadata": {},
   "outputs": [],
   "source": [
    "cols = ['年龄', '身高', '体重', 'BMI', '腰背痛程度评分', 'VAS评分','椎间盘退变分数', \n",
    "        'Modic改变阴性椎体个数', 'Modic改变阳性椎体个数', '许莫氏结节阴性椎体个数',\n",
    "        '许莫氏结节阳性椎体个数', '睡眠量表得分', 'intercept']\n",
    "df = data[cols].join(dummy_smoke).join(dummy_alcohol).join(dummy_exercise)"
   ]
  },
  {
   "cell_type": "code",
   "execution_count": 41,
   "metadata": {},
   "outputs": [],
   "source": [
    "x_cols = ['intercept','年龄', '身高', '体重', 'BMI', '腰背痛程度评分', 'VAS评分',  '睡眠量表得分', \n",
    "       'smoke_无', 'smoke_有', 'alcohol_有', 'exercise_无', 'exercise_＜1次/周']\n",
    "y_cols = ['椎间盘退变分数']"
   ]
  },
  {
   "cell_type": "code",
   "execution_count": 53,
   "metadata": {},
   "outputs": [],
   "source": [
    "data['吸烟史'] = data['吸烟史'].map({'无':0, '有':1, '戒':2})\n",
    "data['饮酒史'] = data['饮酒史'].map({'无':0, '有':1})\n",
    "data['体育锻炼'] = data['体育锻炼'].map({'≥1次/周':1, '无':0, '＜1次/周':2})\n"
   ]
  },
  {
   "cell_type": "code",
   "execution_count": 6,
   "metadata": {},
   "outputs": [],
   "source": []
  },
  {
   "cell_type": "code",
   "execution_count": 7,
   "metadata": {},
   "outputs": [
    {
     "data": {
      "text/html": [
       "<div>\n",
       "<style scoped>\n",
       "    .dataframe tbody tr th:only-of-type {\n",
       "        vertical-align: middle;\n",
       "    }\n",
       "\n",
       "    .dataframe tbody tr th {\n",
       "        vertical-align: top;\n",
       "    }\n",
       "\n",
       "    .dataframe thead th {\n",
       "        text-align: right;\n",
       "    }\n",
       "</style>\n",
       "<table border=\"1\" class=\"dataframe\">\n",
       "  <thead>\n",
       "    <tr style=\"text-align: right;\">\n",
       "      <th></th>\n",
       "      <th>年龄</th>\n",
       "      <th>身高</th>\n",
       "      <th>体重</th>\n",
       "      <th>BMI</th>\n",
       "      <th>吸烟史</th>\n",
       "      <th>饮酒史</th>\n",
       "      <th>体育锻炼</th>\n",
       "      <th>腰背痛程度评分</th>\n",
       "      <th>VAS评分</th>\n",
       "      <th>椎间盘退变分数</th>\n",
       "      <th>Modic改变阴性椎体个数</th>\n",
       "      <th>Modic改变阳性椎体个数</th>\n",
       "      <th>许莫氏结节阴性椎体个数</th>\n",
       "      <th>许莫氏结节阳性椎体个数</th>\n",
       "      <th>睡眠量表得分</th>\n",
       "      <th>intercept</th>\n",
       "    </tr>\n",
       "  </thead>\n",
       "  <tbody>\n",
       "    <tr>\n",
       "      <th>0</th>\n",
       "      <td>35</td>\n",
       "      <td>160</td>\n",
       "      <td>53</td>\n",
       "      <td>20.703125</td>\n",
       "      <td>0</td>\n",
       "      <td>0</td>\n",
       "      <td>1</td>\n",
       "      <td>14</td>\n",
       "      <td>5</td>\n",
       "      <td>1</td>\n",
       "      <td>4</td>\n",
       "      <td>1</td>\n",
       "      <td>5</td>\n",
       "      <td>0</td>\n",
       "      <td>70</td>\n",
       "      <td>1.0</td>\n",
       "    </tr>\n",
       "    <tr>\n",
       "      <th>1</th>\n",
       "      <td>32</td>\n",
       "      <td>175</td>\n",
       "      <td>80</td>\n",
       "      <td>26.122449</td>\n",
       "      <td>1</td>\n",
       "      <td>1</td>\n",
       "      <td>1</td>\n",
       "      <td>26</td>\n",
       "      <td>6</td>\n",
       "      <td>1</td>\n",
       "      <td>1</td>\n",
       "      <td>4</td>\n",
       "      <td>4</td>\n",
       "      <td>1</td>\n",
       "      <td>59</td>\n",
       "      <td>1.0</td>\n",
       "    </tr>\n",
       "    <tr>\n",
       "      <th>2</th>\n",
       "      <td>33</td>\n",
       "      <td>170</td>\n",
       "      <td>60</td>\n",
       "      <td>20.761246</td>\n",
       "      <td>0</td>\n",
       "      <td>0</td>\n",
       "      <td>0</td>\n",
       "      <td>7</td>\n",
       "      <td>3</td>\n",
       "      <td>1</td>\n",
       "      <td>2</td>\n",
       "      <td>3</td>\n",
       "      <td>4</td>\n",
       "      <td>1</td>\n",
       "      <td>57</td>\n",
       "      <td>1.0</td>\n",
       "    </tr>\n",
       "    <tr>\n",
       "      <th>3</th>\n",
       "      <td>28</td>\n",
       "      <td>175</td>\n",
       "      <td>83</td>\n",
       "      <td>27.102041</td>\n",
       "      <td>2</td>\n",
       "      <td>1</td>\n",
       "      <td>2</td>\n",
       "      <td>11</td>\n",
       "      <td>2</td>\n",
       "      <td>1</td>\n",
       "      <td>0</td>\n",
       "      <td>5</td>\n",
       "      <td>2</td>\n",
       "      <td>3</td>\n",
       "      <td>40</td>\n",
       "      <td>1.0</td>\n",
       "    </tr>\n",
       "    <tr>\n",
       "      <th>4</th>\n",
       "      <td>32</td>\n",
       "      <td>183</td>\n",
       "      <td>80</td>\n",
       "      <td>23.888441</td>\n",
       "      <td>2</td>\n",
       "      <td>1</td>\n",
       "      <td>2</td>\n",
       "      <td>10</td>\n",
       "      <td>2</td>\n",
       "      <td>0</td>\n",
       "      <td>0</td>\n",
       "      <td>5</td>\n",
       "      <td>3</td>\n",
       "      <td>2</td>\n",
       "      <td>51</td>\n",
       "      <td>1.0</td>\n",
       "    </tr>\n",
       "  </tbody>\n",
       "</table>\n",
       "</div>"
      ],
      "text/plain": [
       "   年龄   身高  体重        BMI  吸烟史  饮酒史  体育锻炼  腰背痛程度评分  VAS评分  椎间盘退变分数  \\\n",
       "0  35  160  53  20.703125    0    0     1       14      5        1   \n",
       "1  32  175  80  26.122449    1    1     1       26      6        1   \n",
       "2  33  170  60  20.761246    0    0     0        7      3        1   \n",
       "3  28  175  83  27.102041    2    1     2       11      2        1   \n",
       "4  32  183  80  23.888441    2    1     2       10      2        0   \n",
       "\n",
       "   Modic改变阴性椎体个数  Modic改变阳性椎体个数  许莫氏结节阴性椎体个数  许莫氏结节阳性椎体个数  睡眠量表得分  intercept  \n",
       "0              4              1            5            0      70        1.0  \n",
       "1              1              4            4            1      59        1.0  \n",
       "2              2              3            4            1      57        1.0  \n",
       "3              0              5            2            3      40        1.0  \n",
       "4              0              5            3            2      51        1.0  "
      ]
     },
     "execution_count": 7,
     "metadata": {},
     "output_type": "execute_result"
    }
   ],
   "source": [
    "data.head()"
   ]
  },
  {
   "cell_type": "code",
   "execution_count": 43,
   "metadata": {},
   "outputs": [],
   "source": [
    "evening_data = df.loc[data['睡眠量表得分']<=42]\n",
    "mid_data = df.loc[data['睡眠量表得分']>42]\n",
    "mid_data = mid_data.loc[mid_data['睡眠量表得分']<58]\n",
    "morning_data = df.loc[data['睡眠量表得分']>=58]\n",
    "# morning_data = morning_data.reset_index()\n",
    "# evening_data, mid_data, morning_data = pd.cut(x=data['睡眠量表得分'], bins=[0, 42, 58, ])"
   ]
  },
  {
   "cell_type": "code",
   "execution_count": 44,
   "metadata": {
    "scrolled": true
   },
   "outputs": [
    {
     "data": {
      "text/plain": [
       "Index(['年龄', '身高', '体重', 'BMI', '腰背痛程度评分', 'VAS评分', '椎间盘退变分数', 'Modic改变阴性椎体个数',\n",
       "       'Modic改变阳性椎体个数', '许莫氏结节阴性椎体个数', '许莫氏结节阳性椎体个数', '睡眠量表得分', 'intercept',\n",
       "       'smoke_无', 'smoke_有', 'alcohol_有', 'exercise_无', 'exercise_＜1次/周'],\n",
       "      dtype='object')"
      ]
     },
     "execution_count": 44,
     "metadata": {},
     "output_type": "execute_result"
    }
   ],
   "source": [
    "morning_data.columns#, mid_data.info(), evening_data.info()"
   ]
  },
  {
   "cell_type": "code",
   "execution_count": 54,
   "metadata": {},
   "outputs": [
    {
     "data": {
      "text/html": [
       "<div>\n",
       "<style scoped>\n",
       "    .dataframe tbody tr th:only-of-type {\n",
       "        vertical-align: middle;\n",
       "    }\n",
       "\n",
       "    .dataframe tbody tr th {\n",
       "        vertical-align: top;\n",
       "    }\n",
       "\n",
       "    .dataframe thead th {\n",
       "        text-align: right;\n",
       "    }\n",
       "</style>\n",
       "<table border=\"1\" class=\"dataframe\">\n",
       "  <thead>\n",
       "    <tr style=\"text-align: right;\">\n",
       "      <th></th>\n",
       "      <th>年龄</th>\n",
       "      <th>身高</th>\n",
       "      <th>体重</th>\n",
       "      <th>BMI</th>\n",
       "      <th>吸烟史</th>\n",
       "      <th>饮酒史</th>\n",
       "      <th>体育锻炼</th>\n",
       "      <th>腰背痛程度评分</th>\n",
       "      <th>VAS评分</th>\n",
       "      <th>椎间盘退变分数</th>\n",
       "      <th>Modic改变阴性椎体个数</th>\n",
       "      <th>Modic改变阳性椎体个数</th>\n",
       "      <th>许莫氏结节阴性椎体个数</th>\n",
       "      <th>许莫氏结节阳性椎体个数</th>\n",
       "      <th>睡眠量表得分</th>\n",
       "      <th>intercept</th>\n",
       "    </tr>\n",
       "  </thead>\n",
       "  <tbody>\n",
       "    <tr>\n",
       "      <th>count</th>\n",
       "      <td>120.000000</td>\n",
       "      <td>120.000000</td>\n",
       "      <td>120.000000</td>\n",
       "      <td>120.000000</td>\n",
       "      <td>120.000000</td>\n",
       "      <td>120.000000</td>\n",
       "      <td>120.000000</td>\n",
       "      <td>120.000000</td>\n",
       "      <td>120.000000</td>\n",
       "      <td>120.000000</td>\n",
       "      <td>120.000000</td>\n",
       "      <td>120.000000</td>\n",
       "      <td>120.000000</td>\n",
       "      <td>120.000000</td>\n",
       "      <td>120.000000</td>\n",
       "      <td>120.0</td>\n",
       "    </tr>\n",
       "    <tr>\n",
       "      <th>mean</th>\n",
       "      <td>29.533333</td>\n",
       "      <td>172.458333</td>\n",
       "      <td>68.675000</td>\n",
       "      <td>23.106728</td>\n",
       "      <td>0.550000</td>\n",
       "      <td>0.466667</td>\n",
       "      <td>1.275000</td>\n",
       "      <td>19.050000</td>\n",
       "      <td>4.633333</td>\n",
       "      <td>0.891667</td>\n",
       "      <td>3.108333</td>\n",
       "      <td>1.891667</td>\n",
       "      <td>4.216667</td>\n",
       "      <td>0.783333</td>\n",
       "      <td>51.108333</td>\n",
       "      <td>1.0</td>\n",
       "    </tr>\n",
       "    <tr>\n",
       "      <th>std</th>\n",
       "      <td>4.178644</td>\n",
       "      <td>4.953389</td>\n",
       "      <td>10.759528</td>\n",
       "      <td>3.598105</td>\n",
       "      <td>0.808048</td>\n",
       "      <td>0.500979</td>\n",
       "      <td>0.839793</td>\n",
       "      <td>7.296655</td>\n",
       "      <td>1.786661</td>\n",
       "      <td>0.312104</td>\n",
       "      <td>1.868788</td>\n",
       "      <td>1.868788</td>\n",
       "      <td>0.831960</td>\n",
       "      <td>0.831960</td>\n",
       "      <td>7.884455</td>\n",
       "      <td>0.0</td>\n",
       "    </tr>\n",
       "    <tr>\n",
       "      <th>min</th>\n",
       "      <td>20.000000</td>\n",
       "      <td>160.000000</td>\n",
       "      <td>49.000000</td>\n",
       "      <td>15.123457</td>\n",
       "      <td>0.000000</td>\n",
       "      <td>0.000000</td>\n",
       "      <td>0.000000</td>\n",
       "      <td>5.000000</td>\n",
       "      <td>2.000000</td>\n",
       "      <td>0.000000</td>\n",
       "      <td>0.000000</td>\n",
       "      <td>0.000000</td>\n",
       "      <td>2.000000</td>\n",
       "      <td>0.000000</td>\n",
       "      <td>37.000000</td>\n",
       "      <td>1.0</td>\n",
       "    </tr>\n",
       "    <tr>\n",
       "      <th>25%</th>\n",
       "      <td>26.000000</td>\n",
       "      <td>170.000000</td>\n",
       "      <td>62.000000</td>\n",
       "      <td>20.746716</td>\n",
       "      <td>0.000000</td>\n",
       "      <td>0.000000</td>\n",
       "      <td>0.750000</td>\n",
       "      <td>11.000000</td>\n",
       "      <td>3.000000</td>\n",
       "      <td>1.000000</td>\n",
       "      <td>2.000000</td>\n",
       "      <td>0.000000</td>\n",
       "      <td>4.000000</td>\n",
       "      <td>0.000000</td>\n",
       "      <td>49.500000</td>\n",
       "      <td>1.0</td>\n",
       "    </tr>\n",
       "    <tr>\n",
       "      <th>50%</th>\n",
       "      <td>30.000000</td>\n",
       "      <td>173.500000</td>\n",
       "      <td>70.000000</td>\n",
       "      <td>23.881778</td>\n",
       "      <td>0.000000</td>\n",
       "      <td>0.000000</td>\n",
       "      <td>2.000000</td>\n",
       "      <td>17.000000</td>\n",
       "      <td>5.000000</td>\n",
       "      <td>1.000000</td>\n",
       "      <td>4.000000</td>\n",
       "      <td>1.000000</td>\n",
       "      <td>4.000000</td>\n",
       "      <td>1.000000</td>\n",
       "      <td>51.000000</td>\n",
       "      <td>1.0</td>\n",
       "    </tr>\n",
       "    <tr>\n",
       "      <th>75%</th>\n",
       "      <td>33.000000</td>\n",
       "      <td>175.000000</td>\n",
       "      <td>75.000000</td>\n",
       "      <td>25.605536</td>\n",
       "      <td>1.000000</td>\n",
       "      <td>1.000000</td>\n",
       "      <td>2.000000</td>\n",
       "      <td>27.000000</td>\n",
       "      <td>6.000000</td>\n",
       "      <td>1.000000</td>\n",
       "      <td>5.000000</td>\n",
       "      <td>3.000000</td>\n",
       "      <td>5.000000</td>\n",
       "      <td>1.000000</td>\n",
       "      <td>57.500000</td>\n",
       "      <td>1.0</td>\n",
       "    </tr>\n",
       "    <tr>\n",
       "      <th>max</th>\n",
       "      <td>38.000000</td>\n",
       "      <td>183.000000</td>\n",
       "      <td>89.000000</td>\n",
       "      <td>30.863007</td>\n",
       "      <td>2.000000</td>\n",
       "      <td>1.000000</td>\n",
       "      <td>2.000000</td>\n",
       "      <td>32.000000</td>\n",
       "      <td>8.000000</td>\n",
       "      <td>1.000000</td>\n",
       "      <td>5.000000</td>\n",
       "      <td>5.000000</td>\n",
       "      <td>5.000000</td>\n",
       "      <td>3.000000</td>\n",
       "      <td>70.000000</td>\n",
       "      <td>1.0</td>\n",
       "    </tr>\n",
       "  </tbody>\n",
       "</table>\n",
       "</div>"
      ],
      "text/plain": [
       "               年龄          身高          体重         BMI         吸烟史         饮酒史  \\\n",
       "count  120.000000  120.000000  120.000000  120.000000  120.000000  120.000000   \n",
       "mean    29.533333  172.458333   68.675000   23.106728    0.550000    0.466667   \n",
       "std      4.178644    4.953389   10.759528    3.598105    0.808048    0.500979   \n",
       "min     20.000000  160.000000   49.000000   15.123457    0.000000    0.000000   \n",
       "25%     26.000000  170.000000   62.000000   20.746716    0.000000    0.000000   \n",
       "50%     30.000000  173.500000   70.000000   23.881778    0.000000    0.000000   \n",
       "75%     33.000000  175.000000   75.000000   25.605536    1.000000    1.000000   \n",
       "max     38.000000  183.000000   89.000000   30.863007    2.000000    1.000000   \n",
       "\n",
       "             体育锻炼     腰背痛程度评分       VAS评分     椎间盘退变分数  Modic改变阴性椎体个数  \\\n",
       "count  120.000000  120.000000  120.000000  120.000000     120.000000   \n",
       "mean     1.275000   19.050000    4.633333    0.891667       3.108333   \n",
       "std      0.839793    7.296655    1.786661    0.312104       1.868788   \n",
       "min      0.000000    5.000000    2.000000    0.000000       0.000000   \n",
       "25%      0.750000   11.000000    3.000000    1.000000       2.000000   \n",
       "50%      2.000000   17.000000    5.000000    1.000000       4.000000   \n",
       "75%      2.000000   27.000000    6.000000    1.000000       5.000000   \n",
       "max      2.000000   32.000000    8.000000    1.000000       5.000000   \n",
       "\n",
       "       Modic改变阳性椎体个数  许莫氏结节阴性椎体个数  许莫氏结节阳性椎体个数      睡眠量表得分  intercept  \n",
       "count     120.000000   120.000000   120.000000  120.000000      120.0  \n",
       "mean        1.891667     4.216667     0.783333   51.108333        1.0  \n",
       "std         1.868788     0.831960     0.831960    7.884455        0.0  \n",
       "min         0.000000     2.000000     0.000000   37.000000        1.0  \n",
       "25%         0.000000     4.000000     0.000000   49.500000        1.0  \n",
       "50%         1.000000     4.000000     1.000000   51.000000        1.0  \n",
       "75%         3.000000     5.000000     1.000000   57.500000        1.0  \n",
       "max         5.000000     5.000000     3.000000   70.000000        1.0  "
      ]
     },
     "execution_count": 54,
     "metadata": {},
     "output_type": "execute_result"
    }
   ],
   "source": [
    "data.describe()"
   ]
  },
  {
   "cell_type": "code",
   "execution_count": null,
   "metadata": {
    "scrolled": true
   },
   "outputs": [],
   "source": [
    "# sns.heatmap(data.iloc[:, :9].corr(), annot=True)\n",
    "morning_data.corr()"
   ]
  },
  {
   "cell_type": "code",
   "execution_count": null,
   "metadata": {},
   "outputs": [],
   "source": [
    "evening_data.corr()"
   ]
  },
  {
   "cell_type": "code",
   "execution_count": null,
   "metadata": {},
   "outputs": [],
   "source": []
  },
  {
   "cell_type": "markdown",
   "metadata": {},
   "source": [
    "# statistic "
   ]
  },
  {
   "cell_type": "code",
   "execution_count": 51,
   "metadata": {
    "scrolled": false
   },
   "outputs": [
    {
     "name": "stdout",
     "output_type": "stream",
     "text": [
      "Optimization terminated successfully.\n",
      "         Current function value: 0.308788\n",
      "         Iterations 8\n",
      "                           Logit Regression Results                           \n",
      "==============================================================================\n",
      "Dep. Variable:                椎间盘退变分数   No. Observations:                  120\n",
      "Model:                          Logit   Df Residuals:                      107\n",
      "Method:                           MLE   Df Model:                           12\n",
      "Date:                Wed, 10 Nov 2021   Pseudo R-squ.:                 0.09979\n",
      "Time:                        15:39:49   Log-Likelihood:                -37.055\n",
      "converged:                       True   LL-Null:                       -41.162\n",
      "Covariance Type:            nonrobust   LLR p-value:                    0.7681\n",
      "==================================================================================\n",
      "                     coef    std err          z      P>|z|      [0.025      0.975]\n",
      "----------------------------------------------------------------------------------\n",
      "intercept        -26.1180     91.101     -0.287      0.774    -204.673     152.437\n",
      "年龄                -0.0518      0.081     -0.638      0.524      -0.211       0.107\n",
      "身高                 0.1706      0.528      0.323      0.746      -0.864       1.205\n",
      "体重                -0.2015      0.654     -0.308      0.758      -1.484       1.081\n",
      "BMI                0.5242      1.933      0.271      0.786      -3.264       4.312\n",
      "腰背痛程度评分           -0.0737      0.047     -1.579      0.114      -0.165       0.018\n",
      "VAS评分              0.2387      0.198      1.203      0.229      -0.150       0.628\n",
      "睡眠量表得分             0.0595      0.040      1.496      0.135      -0.018       0.137\n",
      "smoke_无           -0.3168      0.877     -0.361      0.718      -2.035       1.402\n",
      "smoke_有            0.3276      1.363      0.240      0.810      -2.343       2.999\n",
      "alcohol_有          0.1665      0.655      0.254      0.799      -1.117       1.450\n",
      "exercise_无        -0.6850      0.956     -0.717      0.474      -2.558       1.188\n",
      "exercise_＜1次/周    -0.2583      0.883     -0.293      0.770      -1.988       1.472\n",
      "==================================================================================\n"
     ]
    }
   ],
   "source": [
    "x = df[x_cols]\n",
    "y = df[['椎间盘退变分数']]\n",
    "log_reg = sm.Logit(y, x)\n",
    "log_fit = log_reg.fit()\n",
    "print(log_fit.summary())"
   ]
  },
  {
   "cell_type": "code",
   "execution_count": 56,
   "metadata": {},
   "outputs": [
    {
     "name": "stdout",
     "output_type": "stream",
     "text": [
      "Optimization terminated successfully.\n",
      "         Current function value: 0.310758\n",
      "         Iterations 8\n",
      "                           Logit Regression Results                           \n",
      "==============================================================================\n",
      "Dep. Variable:                椎间盘退变分数   No. Observations:                  120\n",
      "Model:                          Logit   Df Residuals:                      109\n",
      "Method:                           MLE   Df Model:                           10\n",
      "Date:                Wed, 10 Nov 2021   Pseudo R-squ.:                 0.09404\n",
      "Time:                        16:52:21   Log-Likelihood:                -37.291\n",
      "converged:                       True   LL-Null:                       -41.162\n",
      "Covariance Type:            nonrobust   LLR p-value:                    0.6540\n",
      "==============================================================================\n",
      "                 coef    std err          z      P>|z|      [0.025      0.975]\n",
      "------------------------------------------------------------------------------\n",
      "intercept    -30.4237     94.307     -0.323      0.747    -215.262     154.415\n",
      "年龄            -0.0440      0.080     -0.553      0.580      -0.200       0.112\n",
      "身高             0.1894      0.546      0.347      0.729      -0.881       1.260\n",
      "体重            -0.2254      0.678     -0.333      0.739      -1.553       1.103\n",
      "BMI            0.5904      2.002      0.295      0.768      -3.334       4.515\n",
      "吸烟史            0.2287      0.429      0.533      0.594      -0.613       1.070\n",
      "饮酒史            0.2048      0.640      0.320      0.749      -1.049       1.459\n",
      "体育锻炼           0.1911      0.367      0.521      0.602      -0.528       0.910\n",
      "腰背痛程度评分       -0.0776      0.047     -1.660      0.097      -0.169       0.014\n",
      "VAS评分          0.2632      0.193      1.367      0.172      -0.114       0.641\n",
      "睡眠量表得分         0.0604      0.039      1.533      0.125      -0.017       0.138\n",
      "==============================================================================\n"
     ]
    }
   ],
   "source": [
    "x = data[['intercept', '年龄', '身高', '体重', 'BMI', '吸烟史', '饮酒史', '体育锻炼', '腰背痛程度评分', 'VAS评分', '睡眠量表得分']]\n",
    "y = data[['椎间盘退变分数']]\n",
    "log_reg = sm.Logit(y, x)\n",
    "log_fit = log_reg.fit()\n",
    "print(log_fit.summary())"
   ]
  },
  {
   "cell_type": "code",
   "execution_count": null,
   "metadata": {},
   "outputs": [],
   "source": [
    "# from sklearn.preprocessing import StandardScaler\n",
    "# scaler = StandardScaler() \n",
    "# morning_data_scaled =pd.DataFrame(scaler.fit_transform(morning_data[['年龄', '身高', '体重', 'BMI', '吸烟史', '饮酒史', '体育锻炼', '腰背痛程度评分', 'VAS评分', '睡眠量表得分']]), columns=['年龄', '身高', '体重', 'BMI', '吸烟史', '饮酒史', '体育锻炼', '腰背痛程度评分', 'VAS评分', '睡眠量表得分']) "
   ]
  },
  {
   "cell_type": "code",
   "execution_count": 46,
   "metadata": {
    "scrolled": true
   },
   "outputs": [
    {
     "name": "stdout",
     "output_type": "stream",
     "text": [
      "Warning: Maximum number of iterations has been exceeded.\n",
      "         Current function value: inf\n",
      "         Iterations: 35\n"
     ]
    },
    {
     "name": "stderr",
     "output_type": "stream",
     "text": [
      "/opt/anaconda3/lib/python3.8/site-packages/statsmodels/discrete/discrete_model.py:1810: RuntimeWarning: overflow encountered in exp\n",
      "  return 1/(1+np.exp(-X))\n",
      "/opt/anaconda3/lib/python3.8/site-packages/statsmodels/discrete/discrete_model.py:1863: RuntimeWarning: divide by zero encountered in log\n",
      "  return np.sum(np.log(self.cdf(q*np.dot(X,params))))\n"
     ]
    },
    {
     "ename": "LinAlgError",
     "evalue": "Singular matrix",
     "output_type": "error",
     "traceback": [
      "\u001b[0;31m---------------------------------------------------------------------------\u001b[0m",
      "\u001b[0;31mLinAlgError\u001b[0m                               Traceback (most recent call last)",
      "\u001b[0;32m<ipython-input-46-0a6765e1476e>\u001b[0m in \u001b[0;36m<module>\u001b[0;34m\u001b[0m\n\u001b[1;32m      2\u001b[0m \u001b[0my_morn\u001b[0m \u001b[0;34m=\u001b[0m \u001b[0mmorning_data\u001b[0m\u001b[0;34m[\u001b[0m\u001b[0;34m[\u001b[0m\u001b[0;34m'椎间盘退变分数'\u001b[0m\u001b[0;34m]\u001b[0m\u001b[0;34m]\u001b[0m\u001b[0;31m#.reset_index(drop=True)\u001b[0m\u001b[0;34m\u001b[0m\u001b[0;34m\u001b[0m\u001b[0m\n\u001b[1;32m      3\u001b[0m \u001b[0mlog_reg_morn\u001b[0m \u001b[0;34m=\u001b[0m \u001b[0msm\u001b[0m\u001b[0;34m.\u001b[0m\u001b[0mLogit\u001b[0m\u001b[0;34m(\u001b[0m\u001b[0my_morn\u001b[0m\u001b[0;34m,\u001b[0m \u001b[0mx_morn\u001b[0m\u001b[0;34m)\u001b[0m\u001b[0;34m\u001b[0m\u001b[0;34m\u001b[0m\u001b[0m\n\u001b[0;32m----> 4\u001b[0;31m \u001b[0mlog_fit_morn\u001b[0m \u001b[0;34m=\u001b[0m \u001b[0mlog_reg_morn\u001b[0m\u001b[0;34m.\u001b[0m\u001b[0mfit\u001b[0m\u001b[0;34m(\u001b[0m\u001b[0;34m)\u001b[0m\u001b[0;34m\u001b[0m\u001b[0;34m\u001b[0m\u001b[0m\n\u001b[0m\u001b[1;32m      5\u001b[0m \u001b[0mprint\u001b[0m\u001b[0;34m(\u001b[0m\u001b[0mlog_fit_morn\u001b[0m\u001b[0;34m.\u001b[0m\u001b[0msummary\u001b[0m\u001b[0;34m(\u001b[0m\u001b[0;34m)\u001b[0m\u001b[0;34m)\u001b[0m\u001b[0;34m\u001b[0m\u001b[0;34m\u001b[0m\u001b[0m\n",
      "\u001b[0;32m/opt/anaconda3/lib/python3.8/site-packages/statsmodels/discrete/discrete_model.py\u001b[0m in \u001b[0;36mfit\u001b[0;34m(self, start_params, method, maxiter, full_output, disp, callback, **kwargs)\u001b[0m\n\u001b[1;32m   1972\u001b[0m     def fit(self, start_params=None, method='newton', maxiter=35,\n\u001b[1;32m   1973\u001b[0m             full_output=1, disp=1, callback=None, **kwargs):\n\u001b[0;32m-> 1974\u001b[0;31m         bnryfit = super().fit(start_params=start_params,\n\u001b[0m\u001b[1;32m   1975\u001b[0m                               \u001b[0mmethod\u001b[0m\u001b[0;34m=\u001b[0m\u001b[0mmethod\u001b[0m\u001b[0;34m,\u001b[0m\u001b[0;34m\u001b[0m\u001b[0;34m\u001b[0m\u001b[0m\n\u001b[1;32m   1976\u001b[0m                               \u001b[0mmaxiter\u001b[0m\u001b[0;34m=\u001b[0m\u001b[0mmaxiter\u001b[0m\u001b[0;34m,\u001b[0m\u001b[0;34m\u001b[0m\u001b[0;34m\u001b[0m\u001b[0m\n",
      "\u001b[0;32m/opt/anaconda3/lib/python3.8/site-packages/statsmodels/discrete/discrete_model.py\u001b[0m in \u001b[0;36mfit\u001b[0;34m(self, start_params, method, maxiter, full_output, disp, callback, **kwargs)\u001b[0m\n\u001b[1;32m    225\u001b[0m             \u001b[0;32mpass\u001b[0m  \u001b[0;31m# TODO: make a function factory to have multiple call-backs\u001b[0m\u001b[0;34m\u001b[0m\u001b[0;34m\u001b[0m\u001b[0m\n\u001b[1;32m    226\u001b[0m \u001b[0;34m\u001b[0m\u001b[0m\n\u001b[0;32m--> 227\u001b[0;31m         mlefit = super().fit(start_params=start_params,\n\u001b[0m\u001b[1;32m    228\u001b[0m                              \u001b[0mmethod\u001b[0m\u001b[0;34m=\u001b[0m\u001b[0mmethod\u001b[0m\u001b[0;34m,\u001b[0m\u001b[0;34m\u001b[0m\u001b[0;34m\u001b[0m\u001b[0m\n\u001b[1;32m    229\u001b[0m                              \u001b[0mmaxiter\u001b[0m\u001b[0;34m=\u001b[0m\u001b[0mmaxiter\u001b[0m\u001b[0;34m,\u001b[0m\u001b[0;34m\u001b[0m\u001b[0;34m\u001b[0m\u001b[0m\n",
      "\u001b[0;32m/opt/anaconda3/lib/python3.8/site-packages/statsmodels/base/model.py\u001b[0m in \u001b[0;36mfit\u001b[0;34m(self, start_params, method, maxiter, full_output, disp, fargs, callback, retall, skip_hessian, **kwargs)\u001b[0m\n\u001b[1;32m    532\u001b[0m             \u001b[0mHinv\u001b[0m \u001b[0;34m=\u001b[0m \u001b[0mcov_params_func\u001b[0m\u001b[0;34m(\u001b[0m\u001b[0mself\u001b[0m\u001b[0;34m,\u001b[0m \u001b[0mxopt\u001b[0m\u001b[0;34m,\u001b[0m \u001b[0mretvals\u001b[0m\u001b[0;34m)\u001b[0m\u001b[0;34m\u001b[0m\u001b[0;34m\u001b[0m\u001b[0m\n\u001b[1;32m    533\u001b[0m         \u001b[0;32melif\u001b[0m \u001b[0mmethod\u001b[0m \u001b[0;34m==\u001b[0m \u001b[0;34m'newton'\u001b[0m \u001b[0;32mand\u001b[0m \u001b[0mfull_output\u001b[0m\u001b[0;34m:\u001b[0m\u001b[0;34m\u001b[0m\u001b[0;34m\u001b[0m\u001b[0m\n\u001b[0;32m--> 534\u001b[0;31m             \u001b[0mHinv\u001b[0m \u001b[0;34m=\u001b[0m \u001b[0mnp\u001b[0m\u001b[0;34m.\u001b[0m\u001b[0mlinalg\u001b[0m\u001b[0;34m.\u001b[0m\u001b[0minv\u001b[0m\u001b[0;34m(\u001b[0m\u001b[0;34m-\u001b[0m\u001b[0mretvals\u001b[0m\u001b[0;34m[\u001b[0m\u001b[0;34m'Hessian'\u001b[0m\u001b[0;34m]\u001b[0m\u001b[0;34m)\u001b[0m \u001b[0;34m/\u001b[0m \u001b[0mnobs\u001b[0m\u001b[0;34m\u001b[0m\u001b[0;34m\u001b[0m\u001b[0m\n\u001b[0m\u001b[1;32m    535\u001b[0m         \u001b[0;32melif\u001b[0m \u001b[0;32mnot\u001b[0m \u001b[0mskip_hessian\u001b[0m\u001b[0;34m:\u001b[0m\u001b[0;34m\u001b[0m\u001b[0;34m\u001b[0m\u001b[0m\n\u001b[1;32m    536\u001b[0m             \u001b[0mH\u001b[0m \u001b[0;34m=\u001b[0m \u001b[0;34m-\u001b[0m\u001b[0;36m1\u001b[0m \u001b[0;34m*\u001b[0m \u001b[0mself\u001b[0m\u001b[0;34m.\u001b[0m\u001b[0mhessian\u001b[0m\u001b[0;34m(\u001b[0m\u001b[0mxopt\u001b[0m\u001b[0;34m)\u001b[0m\u001b[0;34m\u001b[0m\u001b[0;34m\u001b[0m\u001b[0m\n",
      "\u001b[0;32m<__array_function__ internals>\u001b[0m in \u001b[0;36minv\u001b[0;34m(*args, **kwargs)\u001b[0m\n",
      "\u001b[0;32m/opt/anaconda3/lib/python3.8/site-packages/numpy/linalg/linalg.py\u001b[0m in \u001b[0;36minv\u001b[0;34m(a)\u001b[0m\n\u001b[1;32m    543\u001b[0m     \u001b[0msignature\u001b[0m \u001b[0;34m=\u001b[0m \u001b[0;34m'D->D'\u001b[0m \u001b[0;32mif\u001b[0m \u001b[0misComplexType\u001b[0m\u001b[0;34m(\u001b[0m\u001b[0mt\u001b[0m\u001b[0;34m)\u001b[0m \u001b[0;32melse\u001b[0m \u001b[0;34m'd->d'\u001b[0m\u001b[0;34m\u001b[0m\u001b[0;34m\u001b[0m\u001b[0m\n\u001b[1;32m    544\u001b[0m     \u001b[0mextobj\u001b[0m \u001b[0;34m=\u001b[0m \u001b[0mget_linalg_error_extobj\u001b[0m\u001b[0;34m(\u001b[0m\u001b[0m_raise_linalgerror_singular\u001b[0m\u001b[0;34m)\u001b[0m\u001b[0;34m\u001b[0m\u001b[0;34m\u001b[0m\u001b[0m\n\u001b[0;32m--> 545\u001b[0;31m     \u001b[0mainv\u001b[0m \u001b[0;34m=\u001b[0m \u001b[0m_umath_linalg\u001b[0m\u001b[0;34m.\u001b[0m\u001b[0minv\u001b[0m\u001b[0;34m(\u001b[0m\u001b[0ma\u001b[0m\u001b[0;34m,\u001b[0m \u001b[0msignature\u001b[0m\u001b[0;34m=\u001b[0m\u001b[0msignature\u001b[0m\u001b[0;34m,\u001b[0m \u001b[0mextobj\u001b[0m\u001b[0;34m=\u001b[0m\u001b[0mextobj\u001b[0m\u001b[0;34m)\u001b[0m\u001b[0;34m\u001b[0m\u001b[0;34m\u001b[0m\u001b[0m\n\u001b[0m\u001b[1;32m    546\u001b[0m     \u001b[0;32mreturn\u001b[0m \u001b[0mwrap\u001b[0m\u001b[0;34m(\u001b[0m\u001b[0mainv\u001b[0m\u001b[0;34m.\u001b[0m\u001b[0mastype\u001b[0m\u001b[0;34m(\u001b[0m\u001b[0mresult_t\u001b[0m\u001b[0;34m,\u001b[0m \u001b[0mcopy\u001b[0m\u001b[0;34m=\u001b[0m\u001b[0;32mFalse\u001b[0m\u001b[0;34m)\u001b[0m\u001b[0;34m)\u001b[0m\u001b[0;34m\u001b[0m\u001b[0;34m\u001b[0m\u001b[0m\n\u001b[1;32m    547\u001b[0m \u001b[0;34m\u001b[0m\u001b[0m\n",
      "\u001b[0;32m/opt/anaconda3/lib/python3.8/site-packages/numpy/linalg/linalg.py\u001b[0m in \u001b[0;36m_raise_linalgerror_singular\u001b[0;34m(err, flag)\u001b[0m\n\u001b[1;32m     86\u001b[0m \u001b[0;34m\u001b[0m\u001b[0m\n\u001b[1;32m     87\u001b[0m \u001b[0;32mdef\u001b[0m \u001b[0m_raise_linalgerror_singular\u001b[0m\u001b[0;34m(\u001b[0m\u001b[0merr\u001b[0m\u001b[0;34m,\u001b[0m \u001b[0mflag\u001b[0m\u001b[0;34m)\u001b[0m\u001b[0;34m:\u001b[0m\u001b[0;34m\u001b[0m\u001b[0;34m\u001b[0m\u001b[0m\n\u001b[0;32m---> 88\u001b[0;31m     \u001b[0;32mraise\u001b[0m \u001b[0mLinAlgError\u001b[0m\u001b[0;34m(\u001b[0m\u001b[0;34m\"Singular matrix\"\u001b[0m\u001b[0;34m)\u001b[0m\u001b[0;34m\u001b[0m\u001b[0;34m\u001b[0m\u001b[0m\n\u001b[0m\u001b[1;32m     89\u001b[0m \u001b[0;34m\u001b[0m\u001b[0m\n\u001b[1;32m     90\u001b[0m \u001b[0;32mdef\u001b[0m \u001b[0m_raise_linalgerror_nonposdef\u001b[0m\u001b[0;34m(\u001b[0m\u001b[0merr\u001b[0m\u001b[0;34m,\u001b[0m \u001b[0mflag\u001b[0m\u001b[0;34m)\u001b[0m\u001b[0;34m:\u001b[0m\u001b[0;34m\u001b[0m\u001b[0;34m\u001b[0m\u001b[0m\n",
      "\u001b[0;31mLinAlgError\u001b[0m: Singular matrix"
     ]
    }
   ],
   "source": [
    "x_morn = morning_data[x_cols]\n",
    "y_morn = morning_data[['椎间盘退变分数']]#.reset_index(drop=True)\n",
    "log_reg_morn = sm.Logit(y_morn, x_morn)\n",
    "log_fit_morn = log_reg_morn.fit()\n",
    "print(log_fit_morn.summary())"
   ]
  },
  {
   "cell_type": "code",
   "execution_count": 60,
   "metadata": {},
   "outputs": [
    {
     "data": {
      "text/plain": [
       "0"
      ]
     },
     "execution_count": 60,
     "metadata": {},
     "output_type": "execute_result"
    }
   ],
   "source": [
    "data.duplicated().sum()"
   ]
  },
  {
   "cell_type": "code",
   "execution_count": null,
   "metadata": {},
   "outputs": [],
   "source": [
    "# scaler = StandardScaler() \n",
    "# mid_data_scaled =pd.DataFrame(scaler.fit_transform(mid_data[['年龄', '身高', '体重', 'BMI', '吸烟史', '饮酒史', '体育锻炼', '腰背痛程度评分', 'VAS评分', '睡眠量表得分']]), columns=['年龄', '身高', '体重', 'BMI', '吸烟史', '饮酒史', '体育锻炼', '腰背痛程度评分', 'VAS评分', '睡眠量表得分']) "
   ]
  },
  {
   "cell_type": "code",
   "execution_count": 52,
   "metadata": {},
   "outputs": [
    {
     "name": "stdout",
     "output_type": "stream",
     "text": [
      "Optimization terminated successfully.\n",
      "         Current function value: 0.313139\n",
      "         Iterations 9\n",
      "                           Logit Regression Results                           \n",
      "==============================================================================\n",
      "Dep. Variable:                椎间盘退变分数   No. Observations:                   63\n",
      "Model:                          Logit   Df Residuals:                       50\n",
      "Method:                           MLE   Df Model:                           12\n",
      "Date:                Wed, 10 Nov 2021   Pseudo R-squ.:                  0.2365\n",
      "Time:                        15:40:48   Log-Likelihood:                -19.728\n",
      "converged:                       True   LL-Null:                       -25.837\n",
      "Covariance Type:            nonrobust   LLR p-value:                    0.4282\n",
      "==================================================================================\n",
      "                     coef    std err          z      P>|z|      [0.025      0.975]\n",
      "----------------------------------------------------------------------------------\n",
      "intercept       -133.2032    125.126     -1.065      0.287    -378.446     112.039\n",
      "年龄                -0.1895      0.122     -1.555      0.120      -0.428       0.049\n",
      "身高                 0.5644      0.707      0.798      0.425      -0.821       1.950\n",
      "体重                -0.6840      0.893     -0.766      0.444      -2.434       1.066\n",
      "BMI                1.9998      2.649      0.755      0.450      -3.193       7.192\n",
      "腰背痛程度评分           -0.0418      0.064     -0.655      0.513      -0.167       0.083\n",
      "VAS评分              0.4651      0.282      1.647      0.100      -0.088       1.018\n",
      "睡眠量表得分             0.8567      0.483      1.772      0.076      -0.091       1.804\n",
      "smoke_无           -0.1087      1.112     -0.098      0.922      -2.288       2.070\n",
      "smoke_有            1.3559      1.800      0.753      0.451      -2.172       4.884\n",
      "alcohol_有         -0.2398      0.958     -0.250      0.802      -2.117       1.638\n",
      "exercise_无        -1.5064      1.437     -1.048      0.295      -4.323       1.310\n",
      "exercise_＜1次/周    -1.0721      1.316     -0.815      0.415      -3.651       1.507\n",
      "==================================================================================\n"
     ]
    }
   ],
   "source": [
    "x_mid = mid_data[x_cols]\n",
    "y_mid = mid_data[['椎间盘退变分数']]\n",
    "log_reg_mid = sm.Logit(y_mid, x_mid)\n",
    "log_fit_mid = log_reg_mid.fit()\n",
    "print(log_fit_mid.summary())"
   ]
  },
  {
   "cell_type": "code",
   "execution_count": 49,
   "metadata": {
    "scrolled": false
   },
   "outputs": [
    {
     "name": "stdout",
     "output_type": "stream",
     "text": [
      "Warning: Maximum number of iterations has been exceeded.\n",
      "         Current function value: inf\n",
      "         Iterations: 35\n"
     ]
    },
    {
     "name": "stderr",
     "output_type": "stream",
     "text": [
      "/opt/anaconda3/lib/python3.8/site-packages/statsmodels/discrete/discrete_model.py:1810: RuntimeWarning: overflow encountered in exp\n",
      "  return 1/(1+np.exp(-X))\n",
      "/opt/anaconda3/lib/python3.8/site-packages/statsmodels/discrete/discrete_model.py:1863: RuntimeWarning: divide by zero encountered in log\n",
      "  return np.sum(np.log(self.cdf(q*np.dot(X,params))))\n"
     ]
    },
    {
     "ename": "LinAlgError",
     "evalue": "Singular matrix",
     "output_type": "error",
     "traceback": [
      "\u001b[0;31m---------------------------------------------------------------------------\u001b[0m",
      "\u001b[0;31mLinAlgError\u001b[0m                               Traceback (most recent call last)",
      "\u001b[0;32m<ipython-input-49-6f5fc3f85cba>\u001b[0m in \u001b[0;36m<module>\u001b[0;34m\u001b[0m\n\u001b[1;32m      2\u001b[0m \u001b[0my_evn\u001b[0m \u001b[0;34m=\u001b[0m \u001b[0mevening_data\u001b[0m\u001b[0;34m[\u001b[0m\u001b[0;34m[\u001b[0m\u001b[0;34m'椎间盘退变分数'\u001b[0m\u001b[0;34m]\u001b[0m\u001b[0;34m]\u001b[0m\u001b[0;34m\u001b[0m\u001b[0;34m\u001b[0m\u001b[0m\n\u001b[1;32m      3\u001b[0m \u001b[0mlog_reg_evn\u001b[0m \u001b[0;34m=\u001b[0m \u001b[0msm\u001b[0m\u001b[0;34m.\u001b[0m\u001b[0mLogit\u001b[0m\u001b[0;34m(\u001b[0m\u001b[0my_evn\u001b[0m\u001b[0;34m,\u001b[0m \u001b[0mx_evn\u001b[0m\u001b[0;34m)\u001b[0m\u001b[0;34m\u001b[0m\u001b[0;34m\u001b[0m\u001b[0m\n\u001b[0;32m----> 4\u001b[0;31m \u001b[0mlog_fit_evn\u001b[0m \u001b[0;34m=\u001b[0m \u001b[0mlog_reg_evn\u001b[0m\u001b[0;34m.\u001b[0m\u001b[0mfit\u001b[0m\u001b[0;34m(\u001b[0m\u001b[0;34m)\u001b[0m\u001b[0;34m\u001b[0m\u001b[0;34m\u001b[0m\u001b[0m\n\u001b[0m\u001b[1;32m      5\u001b[0m \u001b[0mlog_fit_evn\u001b[0m\u001b[0;34m.\u001b[0m\u001b[0msummary\u001b[0m\u001b[0;34m(\u001b[0m\u001b[0;34m)\u001b[0m\u001b[0;34m\u001b[0m\u001b[0;34m\u001b[0m\u001b[0m\n",
      "\u001b[0;32m/opt/anaconda3/lib/python3.8/site-packages/statsmodels/discrete/discrete_model.py\u001b[0m in \u001b[0;36mfit\u001b[0;34m(self, start_params, method, maxiter, full_output, disp, callback, **kwargs)\u001b[0m\n\u001b[1;32m   1972\u001b[0m     def fit(self, start_params=None, method='newton', maxiter=35,\n\u001b[1;32m   1973\u001b[0m             full_output=1, disp=1, callback=None, **kwargs):\n\u001b[0;32m-> 1974\u001b[0;31m         bnryfit = super().fit(start_params=start_params,\n\u001b[0m\u001b[1;32m   1975\u001b[0m                               \u001b[0mmethod\u001b[0m\u001b[0;34m=\u001b[0m\u001b[0mmethod\u001b[0m\u001b[0;34m,\u001b[0m\u001b[0;34m\u001b[0m\u001b[0;34m\u001b[0m\u001b[0m\n\u001b[1;32m   1976\u001b[0m                               \u001b[0mmaxiter\u001b[0m\u001b[0;34m=\u001b[0m\u001b[0mmaxiter\u001b[0m\u001b[0;34m,\u001b[0m\u001b[0;34m\u001b[0m\u001b[0;34m\u001b[0m\u001b[0m\n",
      "\u001b[0;32m/opt/anaconda3/lib/python3.8/site-packages/statsmodels/discrete/discrete_model.py\u001b[0m in \u001b[0;36mfit\u001b[0;34m(self, start_params, method, maxiter, full_output, disp, callback, **kwargs)\u001b[0m\n\u001b[1;32m    225\u001b[0m             \u001b[0;32mpass\u001b[0m  \u001b[0;31m# TODO: make a function factory to have multiple call-backs\u001b[0m\u001b[0;34m\u001b[0m\u001b[0;34m\u001b[0m\u001b[0m\n\u001b[1;32m    226\u001b[0m \u001b[0;34m\u001b[0m\u001b[0m\n\u001b[0;32m--> 227\u001b[0;31m         mlefit = super().fit(start_params=start_params,\n\u001b[0m\u001b[1;32m    228\u001b[0m                              \u001b[0mmethod\u001b[0m\u001b[0;34m=\u001b[0m\u001b[0mmethod\u001b[0m\u001b[0;34m,\u001b[0m\u001b[0;34m\u001b[0m\u001b[0;34m\u001b[0m\u001b[0m\n\u001b[1;32m    229\u001b[0m                              \u001b[0mmaxiter\u001b[0m\u001b[0;34m=\u001b[0m\u001b[0mmaxiter\u001b[0m\u001b[0;34m,\u001b[0m\u001b[0;34m\u001b[0m\u001b[0;34m\u001b[0m\u001b[0m\n",
      "\u001b[0;32m/opt/anaconda3/lib/python3.8/site-packages/statsmodels/base/model.py\u001b[0m in \u001b[0;36mfit\u001b[0;34m(self, start_params, method, maxiter, full_output, disp, fargs, callback, retall, skip_hessian, **kwargs)\u001b[0m\n\u001b[1;32m    532\u001b[0m             \u001b[0mHinv\u001b[0m \u001b[0;34m=\u001b[0m \u001b[0mcov_params_func\u001b[0m\u001b[0;34m(\u001b[0m\u001b[0mself\u001b[0m\u001b[0;34m,\u001b[0m \u001b[0mxopt\u001b[0m\u001b[0;34m,\u001b[0m \u001b[0mretvals\u001b[0m\u001b[0;34m)\u001b[0m\u001b[0;34m\u001b[0m\u001b[0;34m\u001b[0m\u001b[0m\n\u001b[1;32m    533\u001b[0m         \u001b[0;32melif\u001b[0m \u001b[0mmethod\u001b[0m \u001b[0;34m==\u001b[0m \u001b[0;34m'newton'\u001b[0m \u001b[0;32mand\u001b[0m \u001b[0mfull_output\u001b[0m\u001b[0;34m:\u001b[0m\u001b[0;34m\u001b[0m\u001b[0;34m\u001b[0m\u001b[0m\n\u001b[0;32m--> 534\u001b[0;31m             \u001b[0mHinv\u001b[0m \u001b[0;34m=\u001b[0m \u001b[0mnp\u001b[0m\u001b[0;34m.\u001b[0m\u001b[0mlinalg\u001b[0m\u001b[0;34m.\u001b[0m\u001b[0minv\u001b[0m\u001b[0;34m(\u001b[0m\u001b[0;34m-\u001b[0m\u001b[0mretvals\u001b[0m\u001b[0;34m[\u001b[0m\u001b[0;34m'Hessian'\u001b[0m\u001b[0;34m]\u001b[0m\u001b[0;34m)\u001b[0m \u001b[0;34m/\u001b[0m \u001b[0mnobs\u001b[0m\u001b[0;34m\u001b[0m\u001b[0;34m\u001b[0m\u001b[0m\n\u001b[0m\u001b[1;32m    535\u001b[0m         \u001b[0;32melif\u001b[0m \u001b[0;32mnot\u001b[0m \u001b[0mskip_hessian\u001b[0m\u001b[0;34m:\u001b[0m\u001b[0;34m\u001b[0m\u001b[0;34m\u001b[0m\u001b[0m\n\u001b[1;32m    536\u001b[0m             \u001b[0mH\u001b[0m \u001b[0;34m=\u001b[0m \u001b[0;34m-\u001b[0m\u001b[0;36m1\u001b[0m \u001b[0;34m*\u001b[0m \u001b[0mself\u001b[0m\u001b[0;34m.\u001b[0m\u001b[0mhessian\u001b[0m\u001b[0;34m(\u001b[0m\u001b[0mxopt\u001b[0m\u001b[0;34m)\u001b[0m\u001b[0;34m\u001b[0m\u001b[0;34m\u001b[0m\u001b[0m\n",
      "\u001b[0;32m<__array_function__ internals>\u001b[0m in \u001b[0;36minv\u001b[0;34m(*args, **kwargs)\u001b[0m\n",
      "\u001b[0;32m/opt/anaconda3/lib/python3.8/site-packages/numpy/linalg/linalg.py\u001b[0m in \u001b[0;36minv\u001b[0;34m(a)\u001b[0m\n\u001b[1;32m    543\u001b[0m     \u001b[0msignature\u001b[0m \u001b[0;34m=\u001b[0m \u001b[0;34m'D->D'\u001b[0m \u001b[0;32mif\u001b[0m \u001b[0misComplexType\u001b[0m\u001b[0;34m(\u001b[0m\u001b[0mt\u001b[0m\u001b[0;34m)\u001b[0m \u001b[0;32melse\u001b[0m \u001b[0;34m'd->d'\u001b[0m\u001b[0;34m\u001b[0m\u001b[0;34m\u001b[0m\u001b[0m\n\u001b[1;32m    544\u001b[0m     \u001b[0mextobj\u001b[0m \u001b[0;34m=\u001b[0m \u001b[0mget_linalg_error_extobj\u001b[0m\u001b[0;34m(\u001b[0m\u001b[0m_raise_linalgerror_singular\u001b[0m\u001b[0;34m)\u001b[0m\u001b[0;34m\u001b[0m\u001b[0;34m\u001b[0m\u001b[0m\n\u001b[0;32m--> 545\u001b[0;31m     \u001b[0mainv\u001b[0m \u001b[0;34m=\u001b[0m \u001b[0m_umath_linalg\u001b[0m\u001b[0;34m.\u001b[0m\u001b[0minv\u001b[0m\u001b[0;34m(\u001b[0m\u001b[0ma\u001b[0m\u001b[0;34m,\u001b[0m \u001b[0msignature\u001b[0m\u001b[0;34m=\u001b[0m\u001b[0msignature\u001b[0m\u001b[0;34m,\u001b[0m \u001b[0mextobj\u001b[0m\u001b[0;34m=\u001b[0m\u001b[0mextobj\u001b[0m\u001b[0;34m)\u001b[0m\u001b[0;34m\u001b[0m\u001b[0;34m\u001b[0m\u001b[0m\n\u001b[0m\u001b[1;32m    546\u001b[0m     \u001b[0;32mreturn\u001b[0m \u001b[0mwrap\u001b[0m\u001b[0;34m(\u001b[0m\u001b[0mainv\u001b[0m\u001b[0;34m.\u001b[0m\u001b[0mastype\u001b[0m\u001b[0;34m(\u001b[0m\u001b[0mresult_t\u001b[0m\u001b[0;34m,\u001b[0m \u001b[0mcopy\u001b[0m\u001b[0;34m=\u001b[0m\u001b[0;32mFalse\u001b[0m\u001b[0;34m)\u001b[0m\u001b[0;34m)\u001b[0m\u001b[0;34m\u001b[0m\u001b[0;34m\u001b[0m\u001b[0m\n\u001b[1;32m    547\u001b[0m \u001b[0;34m\u001b[0m\u001b[0m\n",
      "\u001b[0;32m/opt/anaconda3/lib/python3.8/site-packages/numpy/linalg/linalg.py\u001b[0m in \u001b[0;36m_raise_linalgerror_singular\u001b[0;34m(err, flag)\u001b[0m\n\u001b[1;32m     86\u001b[0m \u001b[0;34m\u001b[0m\u001b[0m\n\u001b[1;32m     87\u001b[0m \u001b[0;32mdef\u001b[0m \u001b[0m_raise_linalgerror_singular\u001b[0m\u001b[0;34m(\u001b[0m\u001b[0merr\u001b[0m\u001b[0;34m,\u001b[0m \u001b[0mflag\u001b[0m\u001b[0;34m)\u001b[0m\u001b[0;34m:\u001b[0m\u001b[0;34m\u001b[0m\u001b[0;34m\u001b[0m\u001b[0m\n\u001b[0;32m---> 88\u001b[0;31m     \u001b[0;32mraise\u001b[0m \u001b[0mLinAlgError\u001b[0m\u001b[0;34m(\u001b[0m\u001b[0;34m\"Singular matrix\"\u001b[0m\u001b[0;34m)\u001b[0m\u001b[0;34m\u001b[0m\u001b[0;34m\u001b[0m\u001b[0m\n\u001b[0m\u001b[1;32m     89\u001b[0m \u001b[0;34m\u001b[0m\u001b[0m\n\u001b[1;32m     90\u001b[0m \u001b[0;32mdef\u001b[0m \u001b[0m_raise_linalgerror_nonposdef\u001b[0m\u001b[0;34m(\u001b[0m\u001b[0merr\u001b[0m\u001b[0;34m,\u001b[0m \u001b[0mflag\u001b[0m\u001b[0;34m)\u001b[0m\u001b[0;34m:\u001b[0m\u001b[0;34m\u001b[0m\u001b[0;34m\u001b[0m\u001b[0m\n",
      "\u001b[0;31mLinAlgError\u001b[0m: Singular matrix"
     ]
    }
   ],
   "source": [
    "x_evn = evening_data[x_cols]\n",
    "y_evn = evening_data[['椎间盘退变分数']]\n",
    "log_reg_evn = sm.Logit(y_evn, x_evn)\n",
    "log_fit_evn = log_reg_evn.fit()\n",
    "log_fit_evn.summary()"
   ]
  },
  {
   "cell_type": "code",
   "execution_count": null,
   "metadata": {
    "scrolled": true
   },
   "outputs": [],
   "source": [
    "# sns.pairplot(x)"
   ]
  },
  {
   "cell_type": "code",
   "execution_count": null,
   "metadata": {},
   "outputs": [],
   "source": []
  },
  {
   "cell_type": "code",
   "execution_count": null,
   "metadata": {},
   "outputs": [],
   "source": []
  },
  {
   "cell_type": "code",
   "execution_count": null,
   "metadata": {},
   "outputs": [],
   "source": []
  },
  {
   "cell_type": "code",
   "execution_count": null,
   "metadata": {},
   "outputs": [],
   "source": []
  },
  {
   "cell_type": "code",
   "execution_count": null,
   "metadata": {},
   "outputs": [],
   "source": []
  },
  {
   "cell_type": "code",
   "execution_count": null,
   "metadata": {},
   "outputs": [],
   "source": []
  },
  {
   "cell_type": "code",
   "execution_count": null,
   "metadata": {},
   "outputs": [],
   "source": []
  },
  {
   "cell_type": "markdown",
   "metadata": {},
   "source": [
    "# logistics regression"
   ]
  },
  {
   "cell_type": "code",
   "execution_count": null,
   "metadata": {},
   "outputs": [],
   "source": [
    "from sklearn.linear_model import LogisticRegression"
   ]
  },
  {
   "cell_type": "code",
   "execution_count": null,
   "metadata": {},
   "outputs": [],
   "source": [
    "x = evening_data.iloc[:, :9].join(evening_data.iloc[:, -1])\n",
    "y = evening_data.iloc[:, 9]\n",
    "x_test_mid = mid_data.iloc[:, :9].join(mid_data.iloc[:, -1])\n",
    "y_test_mid = mid_data.iloc[:, 9]\n",
    "x_test_morn = morning_data.iloc[:, :9].join(morning_data.iloc[:, -1])\n",
    "y_test_morn = morning_data.iloc[:, 9]"
   ]
  },
  {
   "cell_type": "code",
   "execution_count": null,
   "metadata": {
    "scrolled": false
   },
   "outputs": [],
   "source": [
    "log_eve=LogisticRegression()\n",
    "log_eve.fit(x, y)\n",
    "print('evening as baseline')\n",
    "print('morining corelation r^2: ',log_eve.score(x_test_morn, y_test_morn),'\\nmid corelation r^2: ',\\\n",
    "      log_eve.score(x_test_mid, y_test_mid), '\\n截距b：', log_eve.intercept_, '\\n回归系数', log_eve.coef_)"
   ]
  },
  {
   "cell_type": "code",
   "execution_count": null,
   "metadata": {
    "scrolled": true
   },
   "outputs": [],
   "source": [
    "log_mid=LogisticRegression()\n",
    "log_mid.fit(x_test_mid, y_test_mid)\n",
    "print('mid as baseline')\n",
    "print('morining corelation r^2: ',log_mid.score(x_test_morn, y_test_morn),'\\nevening corelation r^2: ',\\\n",
    "      log_mid.score(x, y), '\\n截距b：', log_mid.intercept_, '\\n回归系数', log_mid.coef_)"
   ]
  },
  {
   "cell_type": "code",
   "execution_count": null,
   "metadata": {},
   "outputs": [],
   "source": [
    "log_morn=LogisticRegression()\n",
    "log_morn.fit(x_test_morn, y_test_morn)\n",
    "print('morning as baseline')\n",
    "print('mid corelation r^2: ',log_morn.score(x_test_mid, y_test_mid),'\\nevening corelation r^2: ',\\\n",
    "      log_morn.score(x, y), '\\n截距b：', log_morn.intercept_, '\\n回归系数', log_morn.coef_)"
   ]
  },
  {
   "cell_type": "code",
   "execution_count": null,
   "metadata": {},
   "outputs": [],
   "source": []
  }
 ],
 "metadata": {
  "kernelspec": {
   "display_name": "Python 3",
   "language": "python",
   "name": "python3"
  },
  "language_info": {
   "codemirror_mode": {
    "name": "ipython",
    "version": 3
   },
   "file_extension": ".py",
   "mimetype": "text/x-python",
   "name": "python",
   "nbconvert_exporter": "python",
   "pygments_lexer": "ipython3",
   "version": "3.8.8"
  }
 },
 "nbformat": 4,
 "nbformat_minor": 2
}
